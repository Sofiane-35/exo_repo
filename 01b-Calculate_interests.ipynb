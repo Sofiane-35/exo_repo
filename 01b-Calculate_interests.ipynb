{
 "cells": [
  {
   "cell_type": "code",
   "execution_count": null,
   "metadata": {},
   "outputs": [],
   "source": [
    "def savings():\n",
    "    try:\n",
    "        initial_amount = float(input(\"Give us the total amount you wish to invest : \\n\"))\n",
    "        print(initial_amount)\n",
    "        duration = float(input(\"How many years are you going to invest that money ? \\n\"))\n",
    "        print(duration)\n",
    "        interest_rate = float(input(\"At what rate would you like to see interest ?\\n \\\n",
    "              WARNING: You will have to put a decimal value \\n Ex: 10% --> 0.10 \\n\"))\n",
    "        print(interest_rate)\n",
    "    except ValueError:\n",
    "        # We enter this except only if the user types something other than numbers.\n",
    "        raise ValueError(\"Please enter only numbers !\") # makes it possible to explain the error\n",
    "    else:\n",
    "        # We enter this else if the user has typed numbers correctly.\n",
    "        # We're going to run successive tests to create the other errors\n",
    "        \n",
    "        if (initial_amount < 0) or (duration < 0) or (interest_rate < 0):\n",
    "            raise ValueError(\"You have entered one or more negative values. \\n \\\n",
    "            Please type only positive values !\")\n",
    "        \n",
    "        if interest_rate > 1:\n",
    "            raise ValueError(\"You have entered an interest rate greater than 1%. \\n \\\n",
    "            Please enter an interest rate as a decimal value !\")\n",
    "        \n",
    "        # The following code will be executed if no errors occurred upstream\n",
    "        total = initial_amount*(1+interest_rate)**(duration)\n",
    "        print(\"The total amount of money you will have after you deposit {:.2f} at the end of {} years will be {:.2f} €\"\n",
    "              .format(initial_amount, duration, total))"
   ]
  }
 ],
 "metadata": {
  "language_info": {
   "name": "python"
  }
 },
 "nbformat": 4,
 "nbformat_minor": 2
}
